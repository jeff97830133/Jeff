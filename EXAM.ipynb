{
 "cells": [
  {
   "cell_type": "code",
   "execution_count": 121,
   "metadata": {
    "collapsed": false
   },
   "outputs": [
    {
     "data": {
      "text/html": [
       "<div>\n",
       "<table border=\"1\" class=\"dataframe\">\n",
       "  <thead>\n",
       "    <tr style=\"text-align: right;\">\n",
       "      <th></th>\n",
       "      <th>fdg</th>\n",
       "      <th>fdgdf</th>\n",
       "      <th>fdgfd</th>\n",
       "      <th>fg</th>\n",
       "    </tr>\n",
       "  </thead>\n",
       "  <tbody>\n",
       "    <tr>\n",
       "      <th>0</th>\n",
       "      <td>剩餘 12 天</td>\n",
       "      <td>美美加MeiMeiJia</td>\n",
       "      <td>$240,339</td>\n",
       "      <td>樂立扣│外套就是保暖罩</td>\n",
       "    </tr>\n",
       "    <tr>\n",
       "      <th>1</th>\n",
       "      <td>最後 79 小時</td>\n",
       "      <td>聲浪科技股份有限公司</td>\n",
       "      <td>$748,777</td>\n",
       "      <td>iDAC耳機擴大機 讓您聽見真實的音樂</td>\n",
       "    </tr>\n",
       "    <tr>\n",
       "      <th>2</th>\n",
       "      <td>剩餘 10 天</td>\n",
       "      <td>重甲機神團隊</td>\n",
       "      <td>$1,238,966</td>\n",
       "      <td>重甲機神第一集《台灣人之不得不成為救世主！》22分鐘製作計畫始動！</td>\n",
       "    </tr>\n",
       "    <tr>\n",
       "      <th>3</th>\n",
       "      <td>剩餘 27 天</td>\n",
       "      <td>BrealaxLab</td>\n",
       "      <td>$136,062</td>\n",
       "      <td>究舒系絕佳氣密口罩：真正保護你和你愛的人</td>\n",
       "    </tr>\n",
       "    <tr>\n",
       "      <th>4</th>\n",
       "      <td>剩餘 36 天</td>\n",
       "      <td>Perun Tech</td>\n",
       "      <td>$172,624</td>\n",
       "      <td>智慧全藍芽胎壓偵測器——即時守護你的行車安全</td>\n",
       "    </tr>\n",
       "  </tbody>\n",
       "</table>\n",
       "</div>"
      ],
      "text/plain": [
       "         fdg         fdgdf       fdgfd                                 fg\n",
       "0    剩餘 12 天  美美加MeiMeiJia    $240,339                        樂立扣│外套就是保暖罩\n",
       "1   最後 79 小時    聲浪科技股份有限公司    $748,777                iDAC耳機擴大機 讓您聽見真實的音樂\n",
       "2    剩餘 10 天        重甲機神團隊  $1,238,966  重甲機神第一集《台灣人之不得不成為救世主！》22分鐘製作計畫始動！\n",
       "3    剩餘 27 天    BrealaxLab    $136,062               究舒系絕佳氣密口罩：真正保護你和你愛的人\n",
       "4    剩餘 36 天    Perun Tech    $172,624             智慧全藍芽胎壓偵測器——即時守護你的行車安全"
      ]
     },
     "execution_count": 121,
     "metadata": {},
     "output_type": "execute_result"
    }
   ],
   "source": [
    "import requests\n",
    "from bs4 import BeautifulSoup as bs\n",
    "import pandas as pd\n",
    "res = requests.get('https://www.flyingv.cc/type/online')\n",
    "#print res.text\n",
    "soup = bs(res.text)\n",
    "ary = []\n",
    "for src in soup.select('.portfolio-content'):\n",
    "    ary.append({'fg': src.select('h5')[0].text, 'fdgdf':src.select('a')[0].text, 'fdgfd':src.select('.unit-money')[0].text, \\\n",
    "                'fdg':src.select('.unit-time')[0].text})\n",
    "df = pd.DataFrame(ary)\n",
    "df.head()\n",
    "   \n",
    " "
   ]
  },
  {
   "cell_type": "code",
   "execution_count": 115,
   "metadata": {
    "collapsed": false
   },
   "outputs": [
    {
     "ename": "IndexError",
     "evalue": "list index out of range",
     "output_type": "error",
     "traceback": [
      "\u001b[1;31m---------------------------------------------------------------------------\u001b[0m",
      "\u001b[1;31mIndexError\u001b[0m                                Traceback (most recent call last)",
      "\u001b[1;32m<ipython-input-115-832908395598>\u001b[0m in \u001b[0;36m<module>\u001b[1;34m()\u001b[0m\n\u001b[0;32m      1\u001b[0m \u001b[1;32mfor\u001b[0m \u001b[0msrc\u001b[0m \u001b[1;32min\u001b[0m \u001b[0msoup\u001b[0m\u001b[1;33m.\u001b[0m\u001b[0mselect\u001b[0m\u001b[1;33m(\u001b[0m\u001b[1;34m'.portfolio-content'\u001b[0m\u001b[1;33m)\u001b[0m\u001b[1;33m:\u001b[0m\u001b[1;33m\u001b[0m\u001b[0m\n\u001b[1;32m----> 2\u001b[1;33m     \u001b[1;32mprint\u001b[0m \u001b[0msrc\u001b[0m\u001b[1;33m.\u001b[0m\u001b[0mselect\u001b[0m\u001b[1;33m(\u001b[0m\u001b[1;34m'h1'\u001b[0m\u001b[1;33m)\u001b[0m\u001b[1;33m[\u001b[0m\u001b[1;36m0\u001b[0m\u001b[1;33m]\u001b[0m\u001b[1;33m.\u001b[0m\u001b[0mtext\u001b[0m\u001b[1;33m,\u001b[0m \u001b[0msrc\u001b[0m\u001b[1;33m.\u001b[0m\u001b[0mselect\u001b[0m\u001b[1;33m(\u001b[0m\u001b[1;34m'h2'\u001b[0m\u001b[1;33m)\u001b[0m\u001b[1;33m[\u001b[0m\u001b[1;36m0\u001b[0m\u001b[1;33m]\u001b[0m\u001b[1;33m.\u001b[0m\u001b[0mtext\u001b[0m\u001b[1;33m,\u001b[0m \u001b[0msrc\u001b[0m\u001b[1;33m.\u001b[0m\u001b[0mselect\u001b[0m\u001b[1;33m(\u001b[0m\u001b[1;34m'time'\u001b[0m\u001b[1;33m)\u001b[0m\u001b[1;33m[\u001b[0m\u001b[1;36m0\u001b[0m\u001b[1;33m]\u001b[0m\u001b[1;33m.\u001b[0m\u001b[0mtext\u001b[0m\u001b[1;33m,\u001b[0m \u001b[0msrc\u001b[0m\u001b[1;33m.\u001b[0m\u001b[0mselect\u001b[0m\u001b[1;33m(\u001b[0m\u001b[1;34m'.unit-time'\u001b[0m\u001b[1;33m)\u001b[0m\u001b[1;33m[\u001b[0m\u001b[1;36m0\u001b[0m\u001b[1;33m]\u001b[0m\u001b[1;33m.\u001b[0m\u001b[0mtext\u001b[0m\u001b[1;33m\u001b[0m\u001b[0m\n\u001b[0m",
      "\u001b[1;31mIndexError\u001b[0m: list index out of range"
     ]
    }
   ],
   "source": [
    "for src in soup.select('.portfolio-content'):\n",
    "    print src.select('h1')[0].text, src.select('h2')[0].text, src.select('time')[0].text, src.select('.unit-time')[0].text"
   ]
  }
 ],
 "metadata": {
  "kernelspec": {
   "display_name": "Python 2",
   "language": "python",
   "name": "python2"
  },
  "language_info": {
   "codemirror_mode": {
    "name": "ipython",
    "version": 2
   },
   "file_extension": ".py",
   "mimetype": "text/x-python",
   "name": "python",
   "nbconvert_exporter": "python",
   "pygments_lexer": "ipython2",
   "version": "2.7.11"
  }
 },
 "nbformat": 4,
 "nbformat_minor": 0
}
