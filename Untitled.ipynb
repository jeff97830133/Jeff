{
 "cells": [
  {
   "cell_type": "code",
   "execution_count": 7,
   "metadata": {
    "collapsed": false
   },
   "outputs": [
    {
     "ename": "SyntaxError",
     "evalue": "invalid syntax (<ipython-input-7-b1628778bb2b>, line 4)",
     "output_type": "error",
     "traceback": [
      "\u001b[1;36m  File \u001b[1;32m\"<ipython-input-7-b1628778bb2b>\"\u001b[1;36m, line \u001b[1;32m4\u001b[0m\n\u001b[1;33m    print \"Nice to meet you \"+name !\u001b[0m\n\u001b[1;37m                                   ^\u001b[0m\n\u001b[1;31mSyntaxError\u001b[0m\u001b[1;31m:\u001b[0m invalid syntax\n"
     ]
    }
   ],
   "source": [
    "name=raw_input(\"What is your name?\")\n",
    "\n",
    "if name==\"Jeff\":\n",
    "    print \"Nice to meet you \"+name \n",
    "else:\n",
    "    print \"Your name again!\""
   ]
  },
  {
   "cell_type": "code",
   "execution_count": 9,
   "metadata": {
    "collapsed": false
   },
   "outputs": [
    {
     "name": "stdout",
     "output_type": "stream",
     "text": [
      "Hello, My name is Tony, I am 18 years old, my job is dancer\n"
     ]
    }
   ],
   "source": [
    "age = \"18\"\n",
    "name = \"Tony\"\n",
    "job = \"dancer\"\n",
    "print \"Hello, My name is {}, I am {} years old, my job is {}\".format(name,age,job)"
   ]
  },
  {
   "cell_type": "code",
   "execution_count": 15,
   "metadata": {
    "collapsed": false
   },
   "outputs": [
    {
     "name": "stdout",
     "output_type": "stream",
     "text": [
      "What is your name?123\n",
      "You are not Curry! Go away from me!\n"
     ]
    }
   ],
   "source": [
    "name=raw_input(\"What is your name?\")\n",
    "score = \"3\"\n",
    "if name==\"Curry\":\n",
    "    print(\"Curry get {} points shots \".format(score))\n",
    "else:\n",
    "    print(\"You are not Curry! Go away from me!\")"
   ]
  },
  {
   "cell_type": "code",
   "execution_count": 26,
   "metadata": {
    "collapsed": false
   },
   "outputs": [
    {
     "name": "stdout",
     "output_type": "stream",
     "text": [
      "Help on built-in function callstats in module sys:\n",
      "\n",
      "callstats(...)\n",
      "    callstats() -> tuple of integers\n",
      "    \n",
      "    Return a tuple of function call statistics, if CALL_PROFILE was defined\n",
      "    when Python was built.  Otherwise, return None.\n",
      "    \n",
      "    When enabled, this function returns detailed, implementation-specific\n",
      "    details about the number of function calls executed. The return value is\n",
      "    a 11-tuple where the entries in the tuple are counts of:\n",
      "    0. all function calls\n",
      "    1. calls to PyFunction_Type objects\n",
      "    2. PyFunction calls that do not create an argument tuple\n",
      "    3. PyFunction calls that do not create an argument tuple\n",
      "       and bypass PyEval_EvalCodeEx()\n",
      "    4. PyMethod calls\n",
      "    5. PyMethod calls on bound methods\n",
      "    6. PyType calls\n",
      "    7. PyCFunction calls\n",
      "    8. generator calls\n",
      "    9. All other calls\n",
      "    10. Number of stack pops performed by call_function()\n",
      "\n"
     ]
    }
   ],
   "source": [
    "import sys\n",
    "help(sys.callstats)"
   ]
  }
 ],
 "metadata": {
  "kernelspec": {
   "display_name": "Python 2",
   "language": "python",
   "name": "python2"
  },
  "language_info": {
   "codemirror_mode": {
    "name": "ipython",
    "version": 2
   },
   "file_extension": ".py",
   "mimetype": "text/x-python",
   "name": "python",
   "nbconvert_exporter": "python",
   "pygments_lexer": "ipython2",
   "version": "2.7.11"
  }
 },
 "nbformat": 4,
 "nbformat_minor": 0
}
